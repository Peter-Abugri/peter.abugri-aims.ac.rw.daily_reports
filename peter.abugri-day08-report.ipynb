{
 "cells": [
  {
   "cell_type": "markdown",
   "metadata": {
    "id": "sm-kMbirqqyt"
   },
   "source": [
    "# PyPro: challenge 1 \n",
    "\n",
    "### This challenge is due on Sunday 29th September 2024 at 8pm.\n",
    "\n",
    "`These exercises provide a wide range of challenges that test your understanding of Python's core concepts, such as control structures, data types, string manipulations, list comprehensions, and higher-order functions.`\n",
    "\n",
    "\n",
    "#### Basic Tasks\n",
    "\n",
    "1. Create a function `find_max()` that accepts two numeric inputs and returns the greater value. Avoid using the built-in `max()` function."
   ]
  },
  {
   "cell_type": "code",
   "execution_count": 45,
   "metadata": {},
   "outputs": [
    {
     "name": "stdout",
     "output_type": "stream",
     "text": [
      "please enter the first number::::23\n",
      "please enter the first number::::1\n",
      "the maximum value is : 23.0\n"
     ]
    }
   ],
   "source": [
    "def find_max(x,y):\n",
    "    if x>y:\n",
    "        print(\"the maximum value is :\", x)\n",
    "    else:\n",
    "        print(\"the maximum value is :\", y)\n",
    "        \n",
    "x=float(input(\"please enter the first number::::\"))\n",
    "y=float(input(\"please enter the first number::::\"))\n",
    "find_max(x,y)"
   ]
  },
  {
   "cell_type": "markdown",
   "metadata": {
    "id": "sm-kMbirqqyt"
   },
   "source": [
    "3. Write a function to manually calculate the length of a given list or string without using `len()`."
   ]
  },
  {
   "cell_type": "code",
   "execution_count": 60,
   "metadata": {},
   "outputs": [],
   "source": [
    "def length_list_str(data):\n",
    "    lenght = 0\n",
    "    for lenght in data:\n",
    "        lenght = 1+lenght\n",
    "    return lenght\n"
   ]
  },
  {
   "cell_type": "code",
   "execution_count": 58,
   "metadata": {},
   "outputs": [
    {
     "data": {
      "text/plain": [
       "3"
      ]
     },
     "execution_count": 58,
     "metadata": {},
     "output_type": "execute_result"
    }
   ],
   "source": []
  },
  {
   "cell_type": "markdown",
   "metadata": {
    "id": "sm-kMbirqqyt"
   },
   "source": [
    "4. Implement a function that checks if a given character is a vowel (a, e, i, o, u)."
   ]
  },
  {
   "cell_type": "code",
   "execution_count": 66,
   "metadata": {},
   "outputs": [],
   "source": [
    " "
   ]
  },
  {
   "cell_type": "code",
   "execution_count": 102,
   "metadata": {},
   "outputs": [],
   "source": [
    "def checking(word):\n",
    "    vowels = \"aeiou\"\n",
    "    for char in word:\n",
    "        \n",
    "            if char in vowels:\n",
    "                print(f\"'{char}' is a vowel.\")\n",
    "            elif char == \" \":\n",
    "                print(\"is a space\")\n",
    "            else:\n",
    "                print(f\"'{char}' is a consonant\")\n",
    "                \n",
    "checking(\"peter abugri potouba\")"
   ]
  },
  {
   "cell_type": "code",
   "execution_count": null,
   "metadata": {},
   "outputs": [],
   "source": []
  },
  {
   "cell_type": "markdown",
   "metadata": {
    "id": "sm-kMbirqqyt"
   },
   "source": [
    "5. Write a function `encode()` that converts a string into \"rövarspråket\" ([robber's language](https://en.wikipedia.org/wiki/R%C3%B6varspr%C3%A5ket)) by doubling consonants and placing \"o\" in between, e.g., \"hello\" -> \"hohelollolo\"."
   ]
  },
  {
   "cell_type": "code",
   "execution_count": 116,
   "metadata": {},
   "outputs": [],
   "source": [
    "def encode_word(word):\n",
    "    vowels = \"aeiou\"\n",
    "    encoded_word = \"\"\n",
    "    \n",
    "    for char in word:\n",
    "        if (char.isalpha() and char not in vowels):  \n",
    "            encoded_word += char + 'o' + char\n",
    "        else:\n",
    "            encoded_word += char \n",
    "\n",
    "    return encoded_word\n",
    "encode_word('petereree')"
   ]
  },
  {
   "cell_type": "code",
   "execution_count": 117,
   "metadata": {},
   "outputs": [
    {
     "data": {
      "text/plain": [
       "'aqoqqoqo'"
      ]
     },
     "execution_count": 117,
     "metadata": {},
     "output_type": "execute_result"
    }
   ],
   "source": []
  },
  {
   "cell_type": "markdown",
   "metadata": {
    "id": "sm-kMbirqqyt"
   },
   "source": [
    "6. Create `sum_elements()` and `product_elements()` functions to sum and multiply all elements in a list, respectively."
   ]
  },
  {
   "cell_type": "code",
   "execution_count": 121,
   "metadata": {},
   "outputs": [
    {
     "name": "stdout",
     "output_type": "stream",
     "text": [
      "Sum of elements: 311\n",
      "Product of elements: 3894415200\n"
     ]
    }
   ],
   "source": [
    "def sum_elements(elements):\n",
    "    add_sum = 0\n",
    "    for element in elements:\n",
    "        add_sum += element\n",
    "    return add_sum\n",
    "\n",
    "def product_elements(elements):\n",
    "    find_product = 1\n",
    "    for element in elements:\n",
    "        find_product *= element\n",
    "    return find_product\n",
    "\n",
    "\n",
    "values = [23,45,67,8,78,90]\n",
    "print(\"Sum of elements:\", sum_elements(values))           \n",
    "print(\"Product of elements:\", product_elements(values))   \n"
   ]
  },
  {
   "cell_type": "markdown",
   "metadata": {
    "id": "sm-kMbirqqyt"
   },
   "source": [
    "7. Define a function `reverse_string()` to reverse the characters in a given string."
   ]
  },
  {
   "cell_type": "code",
   "execution_count": 125,
   "metadata": {},
   "outputs": [
    {
     "name": "stdout",
     "output_type": "stream",
     "text": [
      "IRGUBA\n"
     ]
    }
   ],
   "source": [
    "#\n",
    "def reverse_text(word):\n",
    "    return word[::-1]\n",
    "\n",
    "\n",
    "print(reverse_text(\"ABUGRI\")) \n"
   ]
  },
  {
   "cell_type": "markdown",
   "metadata": {
    "id": "sm-kMbirqqyt"
   },
   "source": [
    "8. Implement `check_palindrome()` to verify if a string reads the same forwards and backwards, i.e. is a [palindrome](https://en.wikipedia.org/wiki/Palindrome)."
   ]
  },
  {
   "cell_type": "code",
   "execution_count": null,
   "metadata": {},
   "outputs": [],
   "source": []
  },
  {
   "cell_type": "markdown",
   "metadata": {
    "id": "sm-kMbirqqyt"
   },
   "source": [
    "9. Develop a function `check_membership()` to determine if a value exists within a list."
   ]
  },
  {
   "cell_type": "code",
   "execution_count": 132,
   "metadata": {},
   "outputs": [
    {
     "name": "stdout",
     "output_type": "stream",
     "text": [
      "False\n"
     ]
    }
   ],
   "source": [
    "def check_membership(value, lst):\n",
    "    my_list = [1, 2, 3, 4, 5]\n",
    "    for item in lst:\n",
    "        if item == value:\n",
    "            return True\n",
    "    return False\n",
    "\n",
    "\n",
    "\n",
    "print(check_membership(7, my_list))  \n"
   ]
  },
  {
   "cell_type": "markdown",
   "metadata": {
    "id": "sm-kMbirqqyt"
   },
   "source": [
    "10. Write `check_overlap()` to identify if two lists share any elements."
   ]
  },
  {
   "cell_type": "code",
   "execution_count": 140,
   "metadata": {},
   "outputs": [
    {
     "name": "stdout",
     "output_type": "stream",
     "text": [
      "Overlap: True\n"
     ]
    }
   ],
   "source": [
    "def check_overlap(list1, list2):\n",
    "    list1 = [3, 5, 6, 7]\n",
    "    list2 = [3, 5, 6, 7]\n",
    "    return any(elem in list2 for elem in list1)\n",
    "\n",
    "\n",
    "\n",
    "\n",
    "result = check_overlap(list1, list2)\n",
    "print(f\"Overlap: {result}\")\n"
   ]
  },
  {
   "cell_type": "markdown",
   "metadata": {
    "id": "sm-kMbirqqyt"
   },
   "source": [
    "11. Implement `repeat_char()` that generates a string with a specified character repeated `n` times."
   ]
  },
  {
   "cell_type": "code",
   "execution_count": 146,
   "metadata": {},
   "outputs": [
    {
     "name": "stdout",
     "output_type": "stream",
     "text": [
      "peterpeterpeterpeterpeter\n"
     ]
    }
   ],
   "source": [
    "def repeat_char(char, x):\n",
    "    return char * x\n",
    "\n",
    "result = repeat_char('peter',5)\n",
    "print(result) "
   ]
  },
  {
   "cell_type": "markdown",
   "metadata": {
    "id": "sm-kMbirqqyt"
   },
   "source": [
    "12. Create a function `print_histogram()` that takes a list of integers and prints a corresponding histogram."
   ]
  },
  {
   "cell_type": "code",
   "execution_count": 150,
   "metadata": {},
   "outputs": [
    {
     "name": "stdout",
     "output_type": "stream",
     "text": [
      "**********\n",
      "*****\n",
      "*********\n",
      "*******************************************************************\n",
      "*\n",
      "*****\n"
     ]
    }
   ],
   "source": [
    "def print_histogram(data):\n",
    "    for value in data:\n",
    "        print('*' * value)\n",
    "\n",
    "\n",
    "print_histogram([10,5, 9,67, 1,5])"
   ]
  },
  {
   "cell_type": "markdown",
   "metadata": {
    "id": "sm-kMbirqqyt"
   },
   "source": [
    "13. Write `find_max_in_list()` to identify the largest number in a list of arbitrary length."
   ]
  },
  {
   "cell_type": "code",
   "execution_count": 151,
   "metadata": {},
   "outputs": [
    {
     "name": "stdout",
     "output_type": "stream",
     "text": [
      "The largest number is: 67\n"
     ]
    }
   ],
   "source": [
    "def find_max_in_list(data):\n",
    "    if len(data) == 0:  \n",
    "        return None  \n",
    "    \n",
    "    max_value = data[0] \n",
    "    for num in data:\n",
    "        if num > max_value: \n",
    "            max_value = num\n",
    "    return max_value\n",
    "\n",
    "numbers = [12, 45, 2, 67, 34]\n",
    "max_value = find_max_in_list(numbers)\n",
    "print(f\"The largest number is: {max_value}\")"
   ]
  },
  {
   "cell_type": "markdown",
   "metadata": {
    "id": "sm-kMbirqqyt"
   },
   "source": [
    "14. Create a program that maps each word in a list to its length."
   ]
  },
  {
   "cell_type": "code",
   "execution_count": 155,
   "metadata": {},
   "outputs": [
    {
     "name": "stdout",
     "output_type": "stream",
     "text": [
      "{'pet': 3, 'po': 2, 'kofi': 4, 'tanko': 5}\n"
     ]
    }
   ],
   "source": [
    "def map_words_to_length(words):\n",
    "    words = ['pet', 'po', 'kofi', 'tanko']\n",
    "    word_length_map = {word: len(word) for word in words}\n",
    "    return word_length_map\n",
    "\n",
    "\n",
    "\n",
    "result = map_words_to_length(words)\n",
    "print(result)"
   ]
  },
  {
   "cell_type": "markdown",
   "metadata": {
    "id": "sm-kMbirqqyt"
   },
   "source": [
    "15. Implement `longest_word()` to find the longest word in a list."
   ]
  },
  {
   "cell_type": "code",
   "execution_count": 158,
   "metadata": {},
   "outputs": [
    {
     "name": "stdout",
     "output_type": "stream",
     "text": [
      "pppppppppppppppppp\n"
     ]
    }
   ],
   "source": [
    "def longest_word(words):\n",
    "    if len(words) == 0: \n",
    "        return None  \n",
    "\n",
    "    longest = words[0]  \n",
    "    for word in words:\n",
    "        if len(word) > len(longest): \n",
    "            longest = word\n",
    "    return longest\n",
    "\n",
    "\n",
    "print(longest_word(['to', 'elements', 'is', 'pppppppppppppppppp'])) "
   ]
  },
  {
   "cell_type": "markdown",
   "metadata": {
    "id": "sm-kMbirqqyt"
   },
   "source": [
    "16. Develop `filter_words()` to return words longer than a specified length from a list."
   ]
  },
  {
   "cell_type": "code",
   "execution_count": 160,
   "metadata": {},
   "outputs": [
    {
     "name": "stdout",
     "output_type": "stream",
     "text": [
      "['petrtette']\n"
     ]
    }
   ],
   "source": [
    "def filter_words(words, length):\n",
    "    words = ['yes', 'petrtette',]\n",
    "    filtered_words = []  # Create an empty list to hold the filtered words\n",
    "    for word in words:\n",
    "        if len(word) > length:  # Check if the word is longer than the specified length\n",
    "            filtered_words.append(word) \n",
    "    return filtered_words\n",
    "\n",
    "\n",
    "\n",
    "result = filter_words(words, 5)  # Get words longer than 5 characters\n",
    "print(result)  "
   ]
  },
  {
   "cell_type": "markdown",
   "metadata": {
    "id": "sm-kMbirqqyt"
   },
   "source": [
    "17. Enhance the palindrome recognizer to handle phrases, ignoring spaces, punctuation, and case."
   ]
  },
  {
   "cell_type": "code",
   "execution_count": null,
   "metadata": {},
   "outputs": [],
   "source": []
  },
  {
   "cell_type": "markdown",
   "metadata": {
    "id": "sm-kMbirqqyt"
   },
   "source": [
    "18. Implement a function that checks if a given sentence is a [pangram](https://en.wikipedia.org/wiki/Pangram)."
   ]
  },
  {
   "cell_type": "code",
   "execution_count": 161,
   "metadata": {},
   "outputs": [
    {
     "name": "stdout",
     "output_type": "stream",
     "text": [
      "True\n",
      "False\n"
     ]
    }
   ],
   "source": [
    "def is_pangram(sentence):\n",
    "    # Define the set of all letters in the alphabet\n",
    "    alphabet = set(\"abcdefghijklmnopqrstuvwxyz\")\n",
    "    \n",
    "    # Convert the sentence to lowercase and create a set of letters in the sentence\n",
    "    sentence_set = set(sentence.lower())\n",
    "    \n",
    "    # Check if all alphabet letters are present in the sentence\n",
    "    return alphabet.issubset(sentence_set)\n",
    "\n",
    "\n",
    "sentence1 = \"The quick brown fox jumps over the lazy dog\"\n",
    "sentence2 = \"Hello, world!\"\n",
    "\n",
    "print(is_pangram(sentence1))  # Output: True\n"
   ]
  },
  {
   "cell_type": "markdown",
   "metadata": {
    "id": "sm-kMbirqqyt"
   },
   "source": [
    "19. Write a function that generates verses for the \"99 Bottles of Beer\" song."
   ]
  },
  {
   "cell_type": "code",
   "execution_count": 162,
   "metadata": {},
   "outputs": [
    {
     "name": "stdout",
     "output_type": "stream",
     "text": [
      "99 bottles of beer on the wall, 99 bottles of beer.\n",
      "Take one down, pass it around, 98 bottles of beer on the wall.\n",
      "\n",
      "98 bottles of beer on the wall, 98 bottles of beer.\n",
      "Take one down, pass it around, 97 bottles of beer on the wall.\n",
      "\n",
      "97 bottles of beer on the wall, 97 bottles of beer.\n",
      "Take one down, pass it around, 96 bottles of beer on the wall.\n",
      "\n",
      "96 bottles of beer on the wall, 96 bottles of beer.\n",
      "Take one down, pass it around, 95 bottles of beer on the wall.\n",
      "\n",
      "95 bottles of beer on the wall, 95 bottles of beer.\n",
      "Take one down, pass it around, 94 bottles of beer on the wall.\n",
      "\n",
      "94 bottles of beer on the wall, 94 bottles of beer.\n",
      "Take one down, pass it around, 93 bottles of beer on the wall.\n",
      "\n",
      "93 bottles of beer on the wall, 93 bottles of beer.\n",
      "Take one down, pass it around, 92 bottles of beer on the wall.\n",
      "\n",
      "92 bottles of beer on the wall, 92 bottles of beer.\n",
      "Take one down, pass it around, 91 bottles of beer on the wall.\n",
      "\n",
      "91 bottles of beer on the wall, 91 bottles of beer.\n",
      "Take one down, pass it around, 90 bottles of beer on the wall.\n",
      "\n",
      "90 bottles of beer on the wall, 90 bottles of beer.\n",
      "Take one down, pass it around, 89 bottles of beer on the wall.\n",
      "\n",
      "89 bottles of beer on the wall, 89 bottles of beer.\n",
      "Take one down, pass it around, 88 bottles of beer on the wall.\n",
      "\n",
      "88 bottles of beer on the wall, 88 bottles of beer.\n",
      "Take one down, pass it around, 87 bottles of beer on the wall.\n",
      "\n",
      "87 bottles of beer on the wall, 87 bottles of beer.\n",
      "Take one down, pass it around, 86 bottles of beer on the wall.\n",
      "\n",
      "86 bottles of beer on the wall, 86 bottles of beer.\n",
      "Take one down, pass it around, 85 bottles of beer on the wall.\n",
      "\n",
      "85 bottles of beer on the wall, 85 bottles of beer.\n",
      "Take one down, pass it around, 84 bottles of beer on the wall.\n",
      "\n",
      "84 bottles of beer on the wall, 84 bottles of beer.\n",
      "Take one down, pass it around, 83 bottles of beer on the wall.\n",
      "\n",
      "83 bottles of beer on the wall, 83 bottles of beer.\n",
      "Take one down, pass it around, 82 bottles of beer on the wall.\n",
      "\n",
      "82 bottles of beer on the wall, 82 bottles of beer.\n",
      "Take one down, pass it around, 81 bottles of beer on the wall.\n",
      "\n",
      "81 bottles of beer on the wall, 81 bottles of beer.\n",
      "Take one down, pass it around, 80 bottles of beer on the wall.\n",
      "\n",
      "80 bottles of beer on the wall, 80 bottles of beer.\n",
      "Take one down, pass it around, 79 bottles of beer on the wall.\n",
      "\n",
      "79 bottles of beer on the wall, 79 bottles of beer.\n",
      "Take one down, pass it around, 78 bottles of beer on the wall.\n",
      "\n",
      "78 bottles of beer on the wall, 78 bottles of beer.\n",
      "Take one down, pass it around, 77 bottles of beer on the wall.\n",
      "\n",
      "77 bottles of beer on the wall, 77 bottles of beer.\n",
      "Take one down, pass it around, 76 bottles of beer on the wall.\n",
      "\n",
      "76 bottles of beer on the wall, 76 bottles of beer.\n",
      "Take one down, pass it around, 75 bottles of beer on the wall.\n",
      "\n",
      "75 bottles of beer on the wall, 75 bottles of beer.\n",
      "Take one down, pass it around, 74 bottles of beer on the wall.\n",
      "\n",
      "74 bottles of beer on the wall, 74 bottles of beer.\n",
      "Take one down, pass it around, 73 bottles of beer on the wall.\n",
      "\n",
      "73 bottles of beer on the wall, 73 bottles of beer.\n",
      "Take one down, pass it around, 72 bottles of beer on the wall.\n",
      "\n",
      "72 bottles of beer on the wall, 72 bottles of beer.\n",
      "Take one down, pass it around, 71 bottles of beer on the wall.\n",
      "\n",
      "71 bottles of beer on the wall, 71 bottles of beer.\n",
      "Take one down, pass it around, 70 bottles of beer on the wall.\n",
      "\n",
      "70 bottles of beer on the wall, 70 bottles of beer.\n",
      "Take one down, pass it around, 69 bottles of beer on the wall.\n",
      "\n",
      "69 bottles of beer on the wall, 69 bottles of beer.\n",
      "Take one down, pass it around, 68 bottles of beer on the wall.\n",
      "\n",
      "68 bottles of beer on the wall, 68 bottles of beer.\n",
      "Take one down, pass it around, 67 bottles of beer on the wall.\n",
      "\n",
      "67 bottles of beer on the wall, 67 bottles of beer.\n",
      "Take one down, pass it around, 66 bottles of beer on the wall.\n",
      "\n",
      "66 bottles of beer on the wall, 66 bottles of beer.\n",
      "Take one down, pass it around, 65 bottles of beer on the wall.\n",
      "\n",
      "65 bottles of beer on the wall, 65 bottles of beer.\n",
      "Take one down, pass it around, 64 bottles of beer on the wall.\n",
      "\n",
      "64 bottles of beer on the wall, 64 bottles of beer.\n",
      "Take one down, pass it around, 63 bottles of beer on the wall.\n",
      "\n",
      "63 bottles of beer on the wall, 63 bottles of beer.\n",
      "Take one down, pass it around, 62 bottles of beer on the wall.\n",
      "\n",
      "62 bottles of beer on the wall, 62 bottles of beer.\n",
      "Take one down, pass it around, 61 bottles of beer on the wall.\n",
      "\n",
      "61 bottles of beer on the wall, 61 bottles of beer.\n",
      "Take one down, pass it around, 60 bottles of beer on the wall.\n",
      "\n",
      "60 bottles of beer on the wall, 60 bottles of beer.\n",
      "Take one down, pass it around, 59 bottles of beer on the wall.\n",
      "\n",
      "59 bottles of beer on the wall, 59 bottles of beer.\n",
      "Take one down, pass it around, 58 bottles of beer on the wall.\n",
      "\n",
      "58 bottles of beer on the wall, 58 bottles of beer.\n",
      "Take one down, pass it around, 57 bottles of beer on the wall.\n",
      "\n",
      "57 bottles of beer on the wall, 57 bottles of beer.\n",
      "Take one down, pass it around, 56 bottles of beer on the wall.\n",
      "\n",
      "56 bottles of beer on the wall, 56 bottles of beer.\n",
      "Take one down, pass it around, 55 bottles of beer on the wall.\n",
      "\n",
      "55 bottles of beer on the wall, 55 bottles of beer.\n",
      "Take one down, pass it around, 54 bottles of beer on the wall.\n",
      "\n",
      "54 bottles of beer on the wall, 54 bottles of beer.\n",
      "Take one down, pass it around, 53 bottles of beer on the wall.\n",
      "\n",
      "53 bottles of beer on the wall, 53 bottles of beer.\n",
      "Take one down, pass it around, 52 bottles of beer on the wall.\n",
      "\n",
      "52 bottles of beer on the wall, 52 bottles of beer.\n",
      "Take one down, pass it around, 51 bottles of beer on the wall.\n",
      "\n",
      "51 bottles of beer on the wall, 51 bottles of beer.\n",
      "Take one down, pass it around, 50 bottles of beer on the wall.\n",
      "\n",
      "50 bottles of beer on the wall, 50 bottles of beer.\n",
      "Take one down, pass it around, 49 bottles of beer on the wall.\n",
      "\n",
      "49 bottles of beer on the wall, 49 bottles of beer.\n",
      "Take one down, pass it around, 48 bottles of beer on the wall.\n",
      "\n",
      "48 bottles of beer on the wall, 48 bottles of beer.\n",
      "Take one down, pass it around, 47 bottles of beer on the wall.\n",
      "\n",
      "47 bottles of beer on the wall, 47 bottles of beer.\n",
      "Take one down, pass it around, 46 bottles of beer on the wall.\n",
      "\n",
      "46 bottles of beer on the wall, 46 bottles of beer.\n",
      "Take one down, pass it around, 45 bottles of beer on the wall.\n",
      "\n",
      "45 bottles of beer on the wall, 45 bottles of beer.\n",
      "Take one down, pass it around, 44 bottles of beer on the wall.\n",
      "\n",
      "44 bottles of beer on the wall, 44 bottles of beer.\n",
      "Take one down, pass it around, 43 bottles of beer on the wall.\n",
      "\n",
      "43 bottles of beer on the wall, 43 bottles of beer.\n",
      "Take one down, pass it around, 42 bottles of beer on the wall.\n",
      "\n",
      "42 bottles of beer on the wall, 42 bottles of beer.\n",
      "Take one down, pass it around, 41 bottles of beer on the wall.\n",
      "\n",
      "41 bottles of beer on the wall, 41 bottles of beer.\n",
      "Take one down, pass it around, 40 bottles of beer on the wall.\n",
      "\n",
      "40 bottles of beer on the wall, 40 bottles of beer.\n",
      "Take one down, pass it around, 39 bottles of beer on the wall.\n",
      "\n",
      "39 bottles of beer on the wall, 39 bottles of beer.\n",
      "Take one down, pass it around, 38 bottles of beer on the wall.\n",
      "\n",
      "38 bottles of beer on the wall, 38 bottles of beer.\n",
      "Take one down, pass it around, 37 bottles of beer on the wall.\n",
      "\n",
      "37 bottles of beer on the wall, 37 bottles of beer.\n",
      "Take one down, pass it around, 36 bottles of beer on the wall.\n",
      "\n",
      "36 bottles of beer on the wall, 36 bottles of beer.\n",
      "Take one down, pass it around, 35 bottles of beer on the wall.\n",
      "\n",
      "35 bottles of beer on the wall, 35 bottles of beer.\n",
      "Take one down, pass it around, 34 bottles of beer on the wall.\n",
      "\n",
      "34 bottles of beer on the wall, 34 bottles of beer.\n",
      "Take one down, pass it around, 33 bottles of beer on the wall.\n",
      "\n",
      "33 bottles of beer on the wall, 33 bottles of beer.\n",
      "Take one down, pass it around, 32 bottles of beer on the wall.\n",
      "\n",
      "32 bottles of beer on the wall, 32 bottles of beer.\n",
      "Take one down, pass it around, 31 bottles of beer on the wall.\n",
      "\n",
      "31 bottles of beer on the wall, 31 bottles of beer.\n",
      "Take one down, pass it around, 30 bottles of beer on the wall.\n",
      "\n",
      "30 bottles of beer on the wall, 30 bottles of beer.\n",
      "Take one down, pass it around, 29 bottles of beer on the wall.\n",
      "\n",
      "29 bottles of beer on the wall, 29 bottles of beer.\n",
      "Take one down, pass it around, 28 bottles of beer on the wall.\n",
      "\n",
      "28 bottles of beer on the wall, 28 bottles of beer.\n",
      "Take one down, pass it around, 27 bottles of beer on the wall.\n",
      "\n",
      "27 bottles of beer on the wall, 27 bottles of beer.\n",
      "Take one down, pass it around, 26 bottles of beer on the wall.\n",
      "\n",
      "26 bottles of beer on the wall, 26 bottles of beer.\n",
      "Take one down, pass it around, 25 bottles of beer on the wall.\n",
      "\n",
      "25 bottles of beer on the wall, 25 bottles of beer.\n",
      "Take one down, pass it around, 24 bottles of beer on the wall.\n",
      "\n",
      "24 bottles of beer on the wall, 24 bottles of beer.\n",
      "Take one down, pass it around, 23 bottles of beer on the wall.\n",
      "\n",
      "23 bottles of beer on the wall, 23 bottles of beer.\n",
      "Take one down, pass it around, 22 bottles of beer on the wall.\n",
      "\n",
      "22 bottles of beer on the wall, 22 bottles of beer.\n",
      "Take one down, pass it around, 21 bottles of beer on the wall.\n",
      "\n",
      "21 bottles of beer on the wall, 21 bottles of beer.\n",
      "Take one down, pass it around, 20 bottles of beer on the wall.\n",
      "\n",
      "20 bottles of beer on the wall, 20 bottles of beer.\n",
      "Take one down, pass it around, 19 bottles of beer on the wall.\n",
      "\n",
      "19 bottles of beer on the wall, 19 bottles of beer.\n",
      "Take one down, pass it around, 18 bottles of beer on the wall.\n",
      "\n",
      "18 bottles of beer on the wall, 18 bottles of beer.\n",
      "Take one down, pass it around, 17 bottles of beer on the wall.\n",
      "\n",
      "17 bottles of beer on the wall, 17 bottles of beer.\n",
      "Take one down, pass it around, 16 bottles of beer on the wall.\n",
      "\n",
      "16 bottles of beer on the wall, 16 bottles of beer.\n",
      "Take one down, pass it around, 15 bottles of beer on the wall.\n",
      "\n",
      "15 bottles of beer on the wall, 15 bottles of beer.\n",
      "Take one down, pass it around, 14 bottles of beer on the wall.\n",
      "\n",
      "14 bottles of beer on the wall, 14 bottles of beer.\n",
      "Take one down, pass it around, 13 bottles of beer on the wall.\n",
      "\n",
      "13 bottles of beer on the wall, 13 bottles of beer.\n",
      "Take one down, pass it around, 12 bottles of beer on the wall.\n",
      "\n",
      "12 bottles of beer on the wall, 12 bottles of beer.\n",
      "Take one down, pass it around, 11 bottles of beer on the wall.\n",
      "\n",
      "11 bottles of beer on the wall, 11 bottles of beer.\n",
      "Take one down, pass it around, 10 bottles of beer on the wall.\n",
      "\n",
      "10 bottles of beer on the wall, 10 bottles of beer.\n",
      "Take one down, pass it around, 9 bottles of beer on the wall.\n",
      "\n",
      "9 bottles of beer on the wall, 9 bottles of beer.\n",
      "Take one down, pass it around, 8 bottles of beer on the wall.\n",
      "\n",
      "8 bottles of beer on the wall, 8 bottles of beer.\n",
      "Take one down, pass it around, 7 bottles of beer on the wall.\n",
      "\n",
      "7 bottles of beer on the wall, 7 bottles of beer.\n",
      "Take one down, pass it around, 6 bottles of beer on the wall.\n",
      "\n",
      "6 bottles of beer on the wall, 6 bottles of beer.\n",
      "Take one down, pass it around, 5 bottles of beer on the wall.\n",
      "\n",
      "5 bottles of beer on the wall, 5 bottles of beer.\n",
      "Take one down, pass it around, 4 bottles of beer on the wall.\n",
      "\n",
      "4 bottles of beer on the wall, 4 bottles of beer.\n",
      "Take one down, pass it around, 3 bottles of beer on the wall.\n",
      "\n",
      "3 bottles of beer on the wall, 3 bottles of beer.\n",
      "Take one down, pass it around, 2 bottles of beer on the wall.\n",
      "\n",
      "2 bottles of beer on the wall, 2 bottles of beer.\n",
      "Take one down, pass it around, 1 bottles of beer on the wall.\n",
      "\n",
      "1 bottle of beer on the wall, 1 bottle of beer.\n",
      "Take one down, pass it around, no more bottles of beer on the wall.\n",
      "\n",
      "No more bottles of beer on the wall, no more bottles of beer.\n",
      "Go to the store and buy some more, 99 bottles of beer on the wall.\n"
     ]
    }
   ],
   "source": [
    "def generate_bottles_of_beer_song():\n",
    "    verses = []\n",
    "    for bottles in range(99, 0, -1):\n",
    "        if bottles > 1:\n",
    "            verses.append(f\"{bottles} bottles of beer on the wall, {bottles} bottles of beer.\")\n",
    "            verses.append(f\"Take one down, pass it around, {bottles - 1} bottles of beer on the wall.\\n\")\n",
    "        else:\n",
    "            verses.append(f\"1 bottle of beer on the wall, 1 bottle of beer.\")\n",
    "            verses.append(f\"Take one down, pass it around, no more bottles of beer on the wall.\\n\")\n",
    "\n",
    "    verses.append(\"No more bottles of beer on the wall, no more bottles of beer.\")\n",
    "    verses.append(\"Go to the store and buy some more, 99 bottles of beer on the wall.\")\n",
    "\n",
    "    return \"\\n\".join(verses\n",
    "                     \n",
    "#song_lyrics = generate_bottles_of_beer_song()\n",
    "#print(song_lyrics)"
   ]
  },
  {
   "cell_type": "markdown",
   "metadata": {
    "id": "sm-kMbirqqyt"
   },
   "source": [
    "20. Create a translation function using a small dictionary to translate English words into French/."
   ]
  },
  {
   "cell_type": "code",
   "execution_count": 167,
   "metadata": {},
   "outputs": [
    {
     "name": "stdout",
     "output_type": "stream",
     "text": [
      "au revoir\n"
     ]
    }
   ],
   "source": [
    "def translate_to_french(word):\n",
    "    # Dictionary for translation\n",
    "    translation_dict = {\n",
    "        \"hello\": \"bonjour\",\n",
    "        \"goodbye\": \"au revoir\"}\n",
    "    \n",
    "    # Translate the word using the dictionary\n",
    "    return translation_dict.get(word.lower(), \"Translation not found.\")\n",
    "\n",
    "print(translate_to_french(\"goodbye\"))  # Output: bonjour\n"
   ]
  },
  {
   "cell_type": "markdown",
   "metadata": {
    "id": "sm-kMbirqqyt"
   },
   "source": [
    "21. Develop `char_frequency()` to build a dictionary of character frequencies in a string."
   ]
  },
  {
   "cell_type": "code",
   "execution_count": 168,
   "metadata": {},
   "outputs": [
    {
     "name": "stdout",
     "output_type": "stream",
     "text": [
      "{'h': 1, 'e': 1, 'l': 3, 'o': 2, ' ': 1, 'w': 1, 'r': 1, 'd': 1}\n"
     ]
    }
   ],
   "source": [
    "def char_frequency(string):\n",
    "    frequency_dict = {}  # Initialize an empty dictionary to store frequencies\n",
    "    \n",
    "    for char in string:  # Iterate through each character in the string\n",
    "        if char in frequency_dict:\n",
    "            frequency_dict[char] += 1 \n",
    "        else:\n",
    "            frequency_dict[char] = \n",
    "            \n",
    "    return frequency_dict\n",
    "\n",
    "\n",
    "input_string = \"hello world\"\n",
    "result = char_frequency(input_string)\n",
    "print(result)"
   ]
  },
  {
   "cell_type": "markdown",
   "metadata": {
    "id": "sm-kMbirqqyt"
   },
   "source": [
    "22. Implement a [Caesar cipher encoder/decoder using a shift of 13 (ROT-13)](https://en.wikipedia.org/wiki/ROT13)."
   ]
  },
  {
   "cell_type": "markdown",
   "metadata": {
    "id": "sm-kMbirqqyt"
   },
   "source": [
    "23. Create `fix_spaces()` to correct multiple spaces and missing spaces after periods in a text."
   ]
  },
  {
   "cell_type": "markdown",
   "metadata": {
    "id": "sm-kMbirqqyt"
   },
   "source": [
    "24. Write `convert_to_third_person()` to transform verbs into their third person singular form."
   ]
  },
  {
   "cell_type": "markdown",
   "metadata": {
    "id": "sm-kMbirqqyt"
   },
   "source": [
    "25. Implement `make_ing_form()` to convert verbs into their present participle form using heuristic rules."
   ]
  },
  {
   "cell_type": "markdown",
   "metadata": {
    "id": "sm-kMbirqqyt"
   },
   "source": [
    "#### Higher-Order Functions and List Comprehensions"
   ]
  },
  {
   "cell_type": "markdown",
   "metadata": {
    "id": "sm-kMbirqqyt"
   },
   "source": [
    "26. Use `reduce()` to write `max_in_list()` that returns the largest number in a list."
   ]
  },
  {
   "cell_type": "markdown",
   "metadata": {
    "id": "sm-kMbirqqyt"
   },
   "source": [
    "27. Write a program that maps words to their lengths using a for-loop, `map()`, and list comprehensions."
   ]
  },
  {
   "cell_type": "markdown",
   "metadata": {
    "id": "sm-kMbirqqyt"
   },
   "source": [
    "28. Implement `find_longest_word()` using only higher-order functions."
   ]
  },
  {
   "cell_type": "markdown",
   "metadata": {
    "id": "sm-kMbirqqyt"
   },
   "source": [
    "29. Use `filter()` to write `filter_long_words()` that filters words longer than `n`."
   ]
  },
  {
   "cell_type": "markdown",
   "metadata": {
    "id": "sm-kMbirqqyt"
   },
   "source": [
    "30. Create `translate_with_map()` to translate English words to French using `map()`."
   ]
  },
  {
   "cell_type": "markdown",
   "metadata": {
    "id": "sm-kMbirqqyt"
   },
   "source": [
    "31. Re-implement the higher-order functions `map()`, `filter()`, and `reduce()` from scratch."
   ]
  },
  {
   "cell_type": "markdown",
   "metadata": {
    "id": "sm-kMbirqqyt"
   },
   "source": [
    "#### Simple Tasks with I/O"
   ]
  },
  {
   "cell_type": "markdown",
   "metadata": {
    "id": "sm-kMbirqqyt"
   },
   "source": [
    "32. Write a palindrome recognizer that reads lines from a file and prints only the palindromes."
   ]
  },
  {
   "cell_type": "markdown",
   "metadata": {
    "id": "sm-kMbirqqyt"
   },
   "source": [
    "33. Implement a [semordnilap](https://en.wiktionary.org/wiki/semordnilap) recognizer that finds word pairs from a file where each word is the reverse of the other."
   ]
  },
  {
   "cell_type": "markdown",
   "metadata": {
    "id": "sm-kMbirqqyt"
   },
   "source": [
    "34. Create `char_frequency_table()` to display a sorted character frequency table from a file."
   ]
  },
  {
   "cell_type": "markdown",
   "metadata": {
    "id": "sm-kMbirqqyt"
   },
   "source": [
    "35. Write a function `speak_ICAO()` that translates text into the [ICAO phonetic alphabet](https://en.wikipedia.org/wiki/NATO_phonetic_alphabet)."
   ]
  },
  {
   "cell_type": "markdown",
   "metadata": {
    "id": "sm-kMbirqqyt"
   },
   "source": [
    "36. Implement `find_hapaxes()` to identify words that occur only once in a text file."
   ]
  },
  {
   "cell_type": "markdown",
   "metadata": {
    "id": "sm-kMbirqqyt"
   },
   "source": [
    "37. Write a program that numbers each line in a text file."
   ]
  },
  {
   "cell_type": "markdown",
   "metadata": {
    "id": "sm-kMbirqqyt"
   },
   "source": [
    "38. Calculate the average word length in a text file."
   ]
  },
  {
   "cell_type": "markdown",
   "metadata": {
    "id": "sm-kMbirqqyt"
   },
   "source": [
    "39. Implement a number-guessing game where the user guesses a number between 1 and 20."
   ]
  },
  {
   "cell_type": "markdown",
   "metadata": {
    "id": "sm-kMbirqqyt"
   },
   "source": [
    "40. Write a program that presents an [anagram](https://en.wikipedia.org/wiki/Anagram) of a randomly chosen word and allows the user to guess the original."
   ]
  },
  {
   "cell_type": "markdown",
   "metadata": {
    "id": "sm-kMbirqqyt"
   },
   "source": [
    "41. Create a [Lingo game](https://en.wikipedia.org/wiki/Lingo_(American_game_show)) where players guess a hidden word, receiving clues about correct and misplaced characters."
   ]
  },
  {
   "cell_type": "markdown",
   "metadata": {
    "id": "sm-kMbirqqyt"
   },
   "source": [
    "#### Advanced Tasks"
   ]
  },
  {
   "cell_type": "markdown",
   "metadata": {
    "id": "sm-kMbirqqyt"
   },
   "source": [
    "42. Develop a sentence splitter that separates a text into sentences based on various heuristics."
   ]
  },
  {
   "cell_type": "markdown",
   "metadata": {
    "id": "sm-kMbirqqyt"
   },
   "source": [
    "43. Write a program to find the largest group of anagrams in a given word list."
   ]
  },
  {
   "cell_type": "markdown",
   "metadata": {
    "id": "sm-kMbirqqyt"
   },
   "source": [
    "44. Generate a string of balanced brackets and verify if it is balanced."
   ]
  },
  {
   "cell_type": "markdown",
   "metadata": {
    "id": "sm-kMbirqqyt"
   },
   "source": [
    "45. Create a word chain game where each word starts with the last letter of the previous one, using a list of [Pokemon names](https://en.wikipedia.org/wiki/List_of_Pok%C3%A9mon)."
   ]
  },
  {
   "cell_type": "code",
   "execution_count": null,
   "metadata": {},
   "outputs": [],
   "source": []
  },
  {
   "cell_type": "code",
   "execution_count": null,
   "metadata": {},
   "outputs": [],
   "source": []
  },
  {
   "cell_type": "code",
   "execution_count": null,
   "metadata": {},
   "outputs": [],
   "source": []
  }
 ],
 "metadata": {
  "colab": {
   "provenance": []
  },
  "kernelspec": {
   "display_name": "Python 3",
   "language": "python",
   "name": "python3"
  },
  "language_info": {
   "codemirror_mode": {
    "name": "ipython",
    "version": 3
   },
   "file_extension": ".py",
   "mimetype": "text/x-python",
   "name": "python",
   "nbconvert_exporter": "python",
   "pygments_lexer": "ipython3",
   "version": "3.9.2"
  }
 },
 "nbformat": 4,
 "nbformat_minor": 1
}
