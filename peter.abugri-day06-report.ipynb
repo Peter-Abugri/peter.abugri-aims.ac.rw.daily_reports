{
 "cells": [
  {
   "cell_type": "markdown",
   "id": "9e72e44a",
   "metadata": {},
   "source": [
    "1. Compute the following expressions for a natural number n chosen by the user:"
   ]
  },
  {
   "cell_type": "code",
   "execution_count": 143,
   "id": "7b5dd119",
   "metadata": {},
   "outputs": [
    {
     "name": "stdout",
     "output_type": "stream",
     "text": [
      "Enter any natural number========0\n",
      "The naural number is:0\n"
     ]
    }
   ],
   "source": [
    "def sum_cal(n):\n",
    "    calculate = 0\n",
    "    for i in range(n):\n",
    "    \n",
    "        if i % 2!= 0:\n",
    "            calculate+=(i+3)\n",
    "    return calculate\n",
    "        \n",
    "n=int(input(\"Enter any natural number========\"))\n",
    "results=sum_cal(n)\n",
    "#print(n)\n",
    "#print(f\"The result of the sum is: {result}\")\n",
    "print(f\"The naural number is:{results}\")"
   ]
  },
  {
   "cell_type": "markdown",
   "id": "5f81b0b0",
   "metadata": {},
   "source": [
    "Compute the following expressions for a natural number n chosen by the user:\n",
    "    Computing for odd sums"
   ]
  },
  {
   "cell_type": "code",
   "execution_count": 144,
   "id": "8c955783",
   "metadata": {},
   "outputs": [
    {
     "name": "stdout",
     "output_type": "stream",
     "text": [
      "Enter any natural number========0\n",
      "The naural number is:0\n"
     ]
    }
   ],
   "source": [
    "def Even_cal(n):\n",
    "    calculate = 0\n",
    "    for i in range(n):\n",
    "    \n",
    "        if i % 2== 0:\n",
    "            calculate+=(i+3)\n",
    "    return calculate\n",
    "        \n",
    "n=int(input(\"Enter any natural number========\"))\n",
    "results=Even_cal(n)\n",
    "#print(n)\n",
    "#print(f\"The result of the sum is: {result}\")\n",
    "print(f\"The naural number is:{results}\")"
   ]
  },
  {
   "cell_type": "markdown",
   "id": "b12e750a",
   "metadata": {},
   "source": [
    "# 2. Write a program that reads the number of the day of the week (from 0 to 6). \n",
    "If it is a working day, then the program will write the name of the corresponding day. Otherwise, it will write the word \"Weekend\"."
   ]
  },
  {
   "cell_type": "code",
   "execution_count": 58,
   "id": "846e78a0",
   "metadata": {},
   "outputs": [
    {
     "name": "stdout",
     "output_type": "stream",
     "text": [
      "enter any day from 0 to 6============2\n",
      "MOnday\n",
      "Tuesday\n",
      "Wed\n",
      "Thursday\n",
      "Friday\n",
      "Weekend\n",
      "weekend\n"
     ]
    }
   ],
   "source": [
    "num=int(input('enter any day from 0 to 6============'))\n",
    "Day=[0,1,2,3,4,5,6]\n",
    "for i in Day:\n",
    "    if i==0:\n",
    "       print(\"MOnday\")\n",
    "    elif i==1:\n",
    "            print('Tuesday')\n",
    "    elif i==2:\n",
    "             print(\"Wed\")\n",
    "    elif i==3:\n",
    "        print('Thursday')\n",
    "    elif i==4:\n",
    "        print('Friday')\n",
    "    elif i==5:\n",
    "        print('Weekend')\n",
    "    elif i==6:\n",
    "        print('weekend')\n",
    "    \n",
    "            "
   ]
  },
  {
   "cell_type": "markdown",
   "id": "888e4621",
   "metadata": {},
   "source": [
    "## Question 3 Make a program that, given a month number (from 0 to 11), indicates how many days it has (28, 30 or 31), ignoring the leap years."
   ]
  },
  {
   "cell_type": "code",
   "execution_count": 161,
   "id": "1851a2b5",
   "metadata": {},
   "outputs": [
    {
     "name": "stdout",
     "output_type": "stream",
     "text": [
      "Enter number within 0-11===========3\n",
      "the days of the month are 31\n"
     ]
    }
   ],
   "source": [
    "def months_day(months):\n",
    "    days_month=[31,28,31,30,31,30,31,31,30,31,30,31]\n",
    "    for months in range(0,9):\n",
    "         return days_month[months]\n",
    "    else:\n",
    "          return \"not a correct month\"\n",
    "months=int(input(\"Enter number within 0-11===========\"))\n",
    "re=months_day(months)\n",
    "print(f\"the days of the month are {re}\")\n",
    "        "
   ]
  },
  {
   "cell_type": "code",
   "execution_count": 153,
   "id": "7768f3c0",
   "metadata": {},
   "outputs": [
    {
     "name": "stdout",
     "output_type": "stream",
     "text": [
      "Enter any number between 0 and 11================: 3\n",
      "The days of the month are: 30\n"
     ]
    }
   ],
   "source": [
    "def months_day(month):\n",
    "    days_month = [31, 28, 31, 30, 31, 30, 31, 31, 30, 31, 30, 31]\n",
    "    \n",
    "    if 0 <= month <= 11:\n",
    "        return days_month[month]\n",
    "    else:\n",
    "        return \"Invalid month\"\n",
    "\n",
    "\n",
    "month = int(input(\"Enter any number between 0 and 11================: \"))\n",
    "result = months_day(month)\n",
    "\n",
    "print(f\"The days of the month are: {result}\")\n"
   ]
  },
  {
   "cell_type": "markdown",
   "id": "2d225f17",
   "metadata": {},
   "source": [
    "9. a) Write python code that prints all the divisors of a given natural number."
   ]
  },
  {
   "cell_type": "code",
   "execution_count": 160,
   "id": "ee61022e",
   "metadata": {},
   "outputs": [
    {
     "name": "stdout",
     "output_type": "stream",
     "text": [
      "Enter a natural number: 20\n",
      "The divisors of 20 are:\n",
      "1\n",
      "2\n",
      "4\n",
      "5\n",
      "10\n",
      "20\n"
     ]
    }
   ],
   "source": [
    "def print_div_visor(n):\n",
    "    print(f\"The divisors of {n} are:\")\n",
    "    for i in range(1, n ):\n",
    "        if n % i == 0:\n",
    "            print(i)\n",
    "\n",
    "\n",
    "n = int(input(\"Enter a natural number: \"))\n",
    "\n",
    "\n",
    "print_divisors(n)\n"
   ]
  },
  {
   "cell_type": "markdown",
   "id": "cc8970e0",
   "metadata": {},
   "source": [
    "10. Read an integer number between n 0 and 9 and print its multiplication table up to N\n",
    "where N is another another natural number read by the program."
   ]
  },
  {
   "cell_type": "code",
   "execution_count": 171,
   "id": "a24f320c",
   "metadata": {},
   "outputs": [
    {
     "name": "stdout",
     "output_type": "stream",
     "text": [
      "Enter a number between 0 and 9: 7\n",
      "Enter any natural number for multiplication table: 7\n",
      "Multiplication table for 7 up to 7:\n",
      "7 x 1 = 7\n",
      "7 x 2 = 14\n",
      "7 x 3 = 21\n",
      "7 x 4 = 28\n",
      "7 x 5 = 35\n",
      "7 x 6 = 42\n",
      "7 x 7 = 49\n"
     ]
    }
   ],
   "source": [
    "number = int(input(\"Enter a number between 0 and 9: \"))\n",
    "\n",
    "\n",
    "if 0<=number<=9:\n",
    "    \n",
    "    \n",
    "    n = int(input(\"Enter any natural number for multiplication table: \"))\n",
    "\n",
    "    \n",
    "    print(f\"Multiplication table for {number} up to {n}:\")\n",
    "    for i in range(1, n+1): #increment\n",
    "        \n",
    "        print(f\"{number} x {i} = {number * i}\")\n",
    "else:\n",
    "    print(\"Invalid input! Please enter a number between 0 and 9.\")"
   ]
  },
  {
   "cell_type": "markdown",
   "id": "327de12a",
   "metadata": {},
   "source": [
    "Question 3"
   ]
  },
  {
   "cell_type": "code",
   "execution_count": 11,
   "id": "0eb8ec83",
   "metadata": {},
   "outputs": [
    {
     "name": "stdout",
     "output_type": "stream",
     "text": [
      "peter\n",
      "peter\n",
      "peter\n"
     ]
    }
   ],
   "source": [
    "for i in range(3):\n",
    "    print(\"peter\")"
   ]
  },
  {
   "cell_type": "code",
   "execution_count": 47,
   "id": "c6989fd5",
   "metadata": {},
   "outputs": [
    {
     "name": "stdout",
     "output_type": "stream",
     "text": [
      "peter\n",
      "peter\n",
      "peter\n"
     ]
    }
   ],
   "source": [
    "i=0\n",
    "while i<=2:\n",
    "    i=i+1\n",
    "    print('peter')\n"
   ]
  },
  {
   "cell_type": "markdown",
   "id": "56e515f7",
   "metadata": {},
   "source": [
    "7. Write python code to determine whether or not a year is a leap year. Be sure you\n",
    "  know what a leap year is."
   ]
  },
  {
   "cell_type": "code",
   "execution_count": 37,
   "id": "93165815",
   "metadata": {},
   "outputs": [
    {
     "name": "stdout",
     "output_type": "stream",
     "text": [
      "any year==================2024\n",
      "Hurray a leap year: \n"
     ]
    }
   ],
   "source": [
    "Leap_years=int(input(\"any year==================\"))\n",
    "if(Leap_years%4==0 and Leap_years%100!=0 or Leap_years%400==0):\n",
    "    print(\"Hurray a leap year: \")\n",
    "else:\n",
    "        print(\"it is not a leap year\")"
   ]
  },
  {
   "cell_type": "markdown",
   "id": "264a621a",
   "metadata": {},
   "source": [
    "Question 6 Compute the first 30 terms of the sequence defined by 2xn+2 − xn+1 − 6xn = 0 sequence,\n",
    "given any two initial values x0 and x1"
   ]
  },
  {
   "cell_type": "code",
   "execution_count": 172,
   "id": "1073944e",
   "metadata": {},
   "outputs": [
    {
     "name": "stdout",
     "output_type": "stream",
     "text": [
      "Enter the initial value x0: 3\n",
      "Enter the initial value x1: 4\n",
      "The first 30 terms of the sequence are:\n",
      "x0 = 3\n",
      "x1 = 4\n",
      "x2 = 11.0\n",
      "x3 = 17.5\n",
      "x4 = 41.75\n",
      "x5 = 73.375\n",
      "x6 = 161.9375\n",
      "x7 = 301.09375\n",
      "x8 = 636.359375\n",
      "x9 = 1221.4609375\n",
      "x10 = 2519.80859375\n",
      "x11 = 4924.287109375\n",
      "x12 = 10021.5693359375\n",
      "x13 = 19783.64599609375\n",
      "x14 = 39956.531005859375\n",
      "x15 = 79329.20349121094\n",
      "x16 = 159534.1947631836\n",
      "x17 = 317754.7078552246\n",
      "x18 = 637479.9382171631\n",
      "x19 = 1272004.0926742554\n",
      "x20 = 2548441.860988617\n",
      "x21 = 5090233.208517075\n",
      "x22 = 10190442.187224388\n",
      "x23 = 20365920.719163418\n",
      "x24 = 40754286.92125487\n",
      "x25 = 81474905.61811769\n",
      "x26 = 163000313.57282346\n",
      "x27 = 325924873.64076483\n",
      "x28 = 651963377.5388528\n",
      "x29 = 1303756309.691721\n"
     ]
    }
   ],
   "source": [
    "\n",
    "x0 = int(input(\"Enter the initial value x0: \"))\n",
    "x1 = int(input(\"Enter the initial value x1: \"))\n",
    "\n",
    "\n",
    "sequence = [x0, x1]\n",
    "\n",
    "\n",
    "for n in range(28):\n",
    "    \n",
    "    x_next = (x1 + 6 * x0) / 2\n",
    "    sequence.append(x_next)\n",
    "    \n",
    "    \n",
    "    x0 = x1\n",
    "    x1 = x_next\n",
    "print(\"The first 30 terms of the sequence are:\")\n",
    "for i, value in enumerate(sequence):\n",
    "    print(f\"x{i} = {value}\")\n"
   ]
  },
  {
   "cell_type": "markdown",
   "id": "c6c0067a",
   "metadata": {},
   "source": [
    "8. a) Write python code that computes the sum of the square of the first n natural numbers.\n",
    "One version with a \"for loop\" and another version with a \"while loop\"."
   ]
  },
  {
   "cell_type": "code",
   "execution_count": 173,
   "id": "ea5f552d",
   "metadata": {},
   "outputs": [
    {
     "name": "stdout",
     "output_type": "stream",
     "text": [
      "Enter a natural number n: 8\n",
      "The sum of the squares of the first 8 natural numbers is: 204\n"
     ]
    }
   ],
   "source": [
    "\n",
    "n = int(input(\"Enter a natural number n: \"))\n",
    "\n",
    "\n",
    "sum_of_squares = 0\n",
    "i = 1\n",
    "\n",
    "\n",
    "while i <= n:\n",
    "    sum_of_squares += i ** 2\n",
    "    i += 1\n",
    "\n",
    "\n",
    "print(f\"The sum of the squares of the first {n} natural numbers is: {sum_of_squares}\")\n"
   ]
  },
  {
   "cell_type": "code",
   "execution_count": null,
   "id": "cd783b17",
   "metadata": {},
   "outputs": [],
   "source": []
  }
 ],
 "metadata": {
  "kernelspec": {
   "display_name": "Python 3",
   "language": "python",
   "name": "python3"
  },
  "language_info": {
   "codemirror_mode": {
    "name": "ipython",
    "version": 3
   },
   "file_extension": ".py",
   "mimetype": "text/x-python",
   "name": "python",
   "nbconvert_exporter": "python",
   "pygments_lexer": "ipython3",
   "version": "3.9.2"
  }
 },
 "nbformat": 4,
 "nbformat_minor": 5
}
